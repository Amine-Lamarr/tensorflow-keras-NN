{
 "cells": [
  {
   "cell_type": "markdown",
   "id": "816b0a18",
   "metadata": {},
   "source": [
    "importing labraries"
   ]
  },
  {
   "cell_type": "code",
   "execution_count": 114,
   "id": "3a4f1615",
   "metadata": {},
   "outputs": [],
   "source": [
    "from sklearn.datasets import load_iris\n",
    "from sklearn.metrics import confusion_matrix\n",
    "import tensorflow as tf\n",
    "from tensorflow import keras\n",
    "from tensorflow.keras.models import Sequential\n",
    "from tensorflow.keras.layers import Dense\n",
    "from sklearn.preprocessing import StandardScaler\n",
    "from sklearn.model_selection import train_test_split\n",
    "import matplotlib.pyplot as plt\n",
    "import seaborn as sns\n",
    "import numpy as np\n",
    "import random\n",
    "seed = 42\n",
    "tf.random.set_seed(seed)\n",
    "np.random.seed(seed)\n",
    "random.seed(seed)\n"
   ]
  },
  {
   "cell_type": "markdown",
   "id": "58e7242d",
   "metadata": {},
   "source": [
    "importing data and scalling \n"
   ]
  },
  {
   "cell_type": "code",
   "execution_count": 107,
   "id": "0eab1561",
   "metadata": {},
   "outputs": [],
   "source": [
    "data = load_iris()\n",
    "x = data.data\n",
    "y = data.target\n",
    "scaler = StandardScaler()\n",
    "x = scaler.fit_transform(x)\n"
   ]
  },
  {
   "cell_type": "markdown",
   "id": "bdc00e1d",
   "metadata": {},
   "source": [
    "splitting data"
   ]
  },
  {
   "cell_type": "code",
   "execution_count": 88,
   "id": "b534b6ee",
   "metadata": {},
   "outputs": [],
   "source": [
    "x_train , x_test , y_train , y_test = train_test_split(x , y, test_size=0.2 , random_state=23)"
   ]
  },
  {
   "cell_type": "markdown",
   "id": "24be3dc8",
   "metadata": {},
   "source": [
    "preparing the model"
   ]
  },
  {
   "cell_type": "code",
   "execution_count": 118,
   "id": "c3f5848b",
   "metadata": {},
   "outputs": [
    {
     "name": "stdout",
     "output_type": "stream",
     "text": [
      "\u001b[1m1/1\u001b[0m \u001b[32m━━━━━━━━━━━━━━━━━━━━\u001b[0m\u001b[37m\u001b[0m \u001b[1m0s\u001b[0m 129ms/step - accuracy: 0.9667 - loss: 0.0817\n",
      "\u001b[1m1/1\u001b[0m \u001b[32m━━━━━━━━━━━━━━━━━━━━\u001b[0m\u001b[37m\u001b[0m \u001b[1m0s\u001b[0m 168ms/step\n",
      "sample 1.\n",
      "prediction = 2 | acutal = 2\n",
      "sample 2.\n",
      "prediction = 2 | acutal = 2\n",
      "sample 3.\n",
      "prediction = 1 | acutal = 1\n",
      "sample 4.\n",
      "prediction = 0 | acutal = 0\n",
      "sample 5.\n",
      "prediction = 2 | acutal = 2\n",
      "sample 6.\n",
      "prediction = 1 | acutal = 1\n",
      "sample 7.\n",
      "prediction = 0 | acutal = 0\n",
      "sample 8.\n",
      "prediction = 2 | acutal = 2\n",
      "sample 9.\n",
      "prediction = 0 | acutal = 0\n",
      "sample 10.\n",
      "prediction = 1 | acutal = 1\n",
      "evaluating model:\n",
      "loss : 0.08169343322515488 | accuracy : 0.9666666388511658\n",
      "confusion matrix : \n",
      " [[12  0  0]\n",
      " [ 0  8  0]\n",
      " [ 0  1  9]]\n"
     ]
    },
    {
     "data": {
      "image/png": "[encoded data removed]",
      "text/plain": [
       "<Figure size 640x480 with 2 Axes>"
      ]
     },
     "metadata": {},
     "output_type": "display_data"
    }
   ],
   "source": [
    "model = keras.Sequential([\n",
    "    tf.keras.layers.Dense(128  , activation='relu'),\n",
    "    tf.keras.layers.Dense(3 , activation='softmax') # output layer\n",
    "])\n",
    "# compiling \n",
    "model.compile(\n",
    "    optimizer = 'adam',\n",
    "    loss = 'sparse_categorical_crossentropy',\n",
    "    metrics = ['accuracy']\n",
    ")\n",
    "# fitting \n",
    "model.fit(x_train , y_train , epochs=100   , validation_split=0.2 , verbose=0) #accuracy: 0.9661 - loss: 0.1156 - val_accuracy: 0.9583 - val_loss: 0.1282\n",
    "\n",
    "# predictions\n",
    "loss , acc = model.evaluate(x_test , y_test)\n",
    "predictions = model.predict(x_test)\n",
    "predicted_labels = np.argmax(predictions , axis=1)\n",
    "cm = confusion_matrix(y_test , predicted_labels)\n",
    "\n",
    "# results\n",
    "for i in range(10):\n",
    "    predict = np.argmax(predictions[i])\n",
    "    target = y_test[i]\n",
    "    print(f\"sample {i+1}.\\nprediction = {predict} | acutal = {target}\")\n",
    "\n",
    "print(\"evaluating model:\")\n",
    "print(f\"loss : {loss} | accuracy : {acc}\")\n",
    "print(\"confusion matrix : \\n\" , cm)\n",
    "\n",
    "# confusion matrix heat map\n",
    "labels = ['Setosa', 'Versicolor', 'Virginica']\n",
    "sns.heatmap(cm , annot=True , fmt='d' , cmap='cool' , xticklabels=labels , yticklabels=labels)\n",
    "plt.xlabel('Predicted')\n",
    "plt.ylabel('actual')\n",
    "plt.title('Confusion Matrix')\n",
    "plt.show()\n",
    "\n",
    "# saving model\n",
    "model.save(\"NN_iris_data.keras\")\n"
   ]
  },
  {
   "cell_type": "code",
   "execution_count": null,
   "id": "deceebe6",
   "metadata": {},
   "outputs": [],
   "source": []
  },
  {
   "cell_type": "code",
   "execution_count": null,
   "id": "eaaaabdf",
   "metadata": {},
   "outputs": [],
   "source": []
  },
  {
   "cell_type": "code",
   "execution_count": null,
   "id": "5c0459c7",
   "metadata": {},
   "outputs": [],
   "source": []
  }
 ],
 "metadata": {
  "kernelspec": {
   "display_name": "Python 3",
   "language": "python",
   "name": "python3"
  },
  "language_info": {
   "codemirror_mode": {
    "name": "ipython",
    "version": 3
   },
   "file_extension": ".py",
   "mimetype": "text/x-python",
   "name": "python",
   "nbconvert_exporter": "python",
   "pygments_lexer": "ipython3",
   "version": "3.10.0"
  }
 },
 "nbformat": 4,
 "nbformat_minor": 5
}
